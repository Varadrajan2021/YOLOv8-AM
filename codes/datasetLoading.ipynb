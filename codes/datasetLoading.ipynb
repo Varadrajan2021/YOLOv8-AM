{
 "cells": [
  {
   "cell_type": "code",
   "execution_count": 2,
   "metadata": {},
   "outputs": [
    {
     "name": "stdout",
     "output_type": "stream",
     "text": [
      "4804 3431\n"
     ]
    }
   ],
   "source": [
    "# Define the file path\n",
    "file_path = 'Users/rajeshrampure/Downloads/IDD_Detection/train.txt'\n",
    "\n",
    "# Initialize counters\n",
    "front_near_count = 0\n",
    "front_far_count = 0\n",
    "\n",
    "# Read the file and count the number of images in each subfolder\n",
    "with open(file_path, 'r') as file:\n",
    "    lines = file.readlines()\n",
    "    for line in lines:\n",
    "        if 'frontNear' in line:\n",
    "            front_near_count += 1\n",
    "        elif 'frontFar' in line:\n",
    "            front_far_count += 1\n",
    "\n",
    "print(front_near_count, front_far_count)"
   ]
  },
  {
   "cell_type": "code",
   "execution_count": null,
   "metadata": {},
   "outputs": [],
   "source": [
    "import os\n",
    "import shutil\n",
    "\n",
    "# Define the path to the train.txt file and base dataset directory\n",
    "train_txt_path = '/Users/rajeshrampure/Downloads/IDD_Detection/train.txt'\n",
    "base_dataset_path = '/Users/rajeshrampure/Downloads/IDD_Detection'\n",
    "\n",
    "# Define the new directory for organized data\n",
    "new_base_path = '/Users/rajeshrampure/Downloads/IDD_Detection_Organized'\n",
    "new_images_path = os.path.join(new_base_path, 'images')\n",
    "new_annotations_path = os.path.join(new_base_path, 'annotations')\n",
    "\n",
    "# Create the new directory structure\n",
    "os.makedirs(new_images_path, exist_ok=True)\n",
    "os.makedirs(new_annotations_path, exist_ok=True)\n",
    "\n",
    "# Initialize counters\n",
    "front_near_count = 0\n",
    "front_far_count = 0\n",
    "\n",
    "# Open and read the train.txt file\n",
    "with open(train_txt_path, 'r') as file:\n",
    "    lines = file.readlines()\n",
    "    for line in lines:\n",
    "        # Check if the line corresponds to an image in 'frontNear' or 'frontFar'\n",
    "        if 'frontNear' in line or 'frontFar' in line:\n",
    "            parts = line.strip().split(' ')  # Split line to get image and annotation paths\n",
    "            # print(parts)\n",
    "            \n",
    "            image_path = os.path.join(base_dataset_path, 'JPEGImages', parts[0]+'.jpg')\n",
    "            annotation_path = os.path.join(base_dataset_path, 'Annotations', parts[0]+'.xml')\n",
    "\n",
    "            # Check if both image and annotation exist\n",
    "            if os.path.exists(image_path) and os.path.exists(annotation_path):\n",
    "                # Copy the image to the new directory\n",
    "                shutil.copy2(image_path, new_images_path)\n",
    "\n",
    "                # Copy the annotation to the new directory\n",
    "                shutil.copy2(annotation_path, new_annotations_path)\n",
    "\n",
    "                # Update counters\n",
    "                if 'frontNear' in line:\n",
    "                    front_near_count += 1\n",
    "                elif 'frontFar' in line:\n",
    "                    front_far_count += 1\n",
    "\n",
    "# Print the results\n",
    "print(f\"Total images copied from 'frontNear': {front_near_count}\")\n",
    "print(f\"Total images copied from 'frontFar': {front_far_count}\")\n",
    "print(f\"Images and annotations have been organized in {new_base_path}\")"
   ]
  }
 ],
 "metadata": {
  "kernelspec": {
   "display_name": "Python 3",
   "language": "python",
   "name": "python3"
  },
  "language_info": {
   "codemirror_mode": {
    "name": "ipython",
    "version": 3
   },
   "file_extension": ".py",
   "mimetype": "text/x-python",
   "name": "python",
   "nbconvert_exporter": "python",
   "pygments_lexer": "ipython3",
   "version": "3.9.6"
  }
 },
 "nbformat": 4,
 "nbformat_minor": 2
}
